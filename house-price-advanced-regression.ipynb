{
 "cells": [
  {
   "cell_type": "code",
   "execution_count": 1,
   "id": "1e6c0a6a",
   "metadata": {
    "_cell_guid": "b1076dfc-b9ad-4769-8c92-a6c4dae69d19",
    "_uuid": "8f2839f25d086af736a60e9eeb907d3b93b6e0e5",
    "execution": {
     "iopub.execute_input": "2021-08-03T15:49:47.095712Z",
     "iopub.status.busy": "2021-08-03T15:49:47.094460Z",
     "iopub.status.idle": "2021-08-03T15:49:48.208901Z",
     "shell.execute_reply": "2021-08-03T15:49:48.209632Z",
     "shell.execute_reply.started": "2021-08-03T15:32:51.617999Z"
    },
    "papermill": {
     "duration": 1.144139,
     "end_time": "2021-08-03T15:49:48.210152",
     "exception": false,
     "start_time": "2021-08-03T15:49:47.066013",
     "status": "completed"
    },
    "tags": []
   },
   "outputs": [
    {
     "name": "stdout",
     "output_type": "stream",
     "text": [
      "/kaggle/input/house-prices-advanced-regression-techniques/sample_submission.csv\n",
      "/kaggle/input/house-prices-advanced-regression-techniques/data_description.txt\n",
      "/kaggle/input/house-prices-advanced-regression-techniques/train.csv\n",
      "/kaggle/input/house-prices-advanced-regression-techniques/test.csv\n"
     ]
    }
   ],
   "source": [
    "import numpy as np # linear algebra\n",
    "import pandas as pd # data processing, CSV file I/O (e.g. pd.read_csv)\n",
    "import matplotlib.pyplot as plt\n",
    "import seaborn as sns\n",
    "import os\n",
    "for dirname, _, filenames in os.walk('/kaggle/input'):\n",
    "    for filename in filenames:\n",
    "        print(os.path.join(dirname, filename))\n"
   ]
  },
  {
   "cell_type": "code",
   "execution_count": 2,
   "id": "3b852f10",
   "metadata": {
    "execution": {
     "iopub.execute_input": "2021-08-03T15:49:48.265662Z",
     "iopub.status.busy": "2021-08-03T15:49:48.264934Z",
     "iopub.status.idle": "2021-08-03T15:49:48.354404Z",
     "shell.execute_reply": "2021-08-03T15:49:48.353832Z",
     "shell.execute_reply.started": "2021-08-03T15:32:51.632689Z"
    },
    "papermill": {
     "duration": 0.118312,
     "end_time": "2021-08-03T15:49:48.354563",
     "exception": false,
     "start_time": "2021-08-03T15:49:48.236251",
     "status": "completed"
    },
    "tags": []
   },
   "outputs": [],
   "source": [
    "train = pd.read_csv(\"/kaggle/input/house-prices-advanced-regression-techniques/train.csv\")\n",
    "test = pd.read_csv(\"/kaggle/input/house-prices-advanced-regression-techniques/test.csv\")\n",
    "\n",
    "samsub = pd.read_csv(\"/kaggle/input/house-prices-advanced-regression-techniques/sample_submission.csv\")"
   ]
  },
  {
   "cell_type": "code",
   "execution_count": 3,
   "id": "f8a3fc0c",
   "metadata": {
    "execution": {
     "iopub.execute_input": "2021-08-03T15:49:48.423701Z",
     "iopub.status.busy": "2021-08-03T15:49:48.422957Z",
     "iopub.status.idle": "2021-08-03T15:49:48.455403Z",
     "shell.execute_reply": "2021-08-03T15:49:48.454834Z",
     "shell.execute_reply.started": "2021-08-03T15:32:51.714338Z"
    },
    "papermill": {
     "duration": 0.07631,
     "end_time": "2021-08-03T15:49:48.455563",
     "exception": false,
     "start_time": "2021-08-03T15:49:48.379253",
     "status": "completed"
    },
    "tags": []
   },
   "outputs": [
    {
     "data": {
      "text/html": [
       "<div>\n",
       "<style scoped>\n",
       "    .dataframe tbody tr th:only-of-type {\n",
       "        vertical-align: middle;\n",
       "    }\n",
       "\n",
       "    .dataframe tbody tr th {\n",
       "        vertical-align: top;\n",
       "    }\n",
       "\n",
       "    .dataframe thead th {\n",
       "        text-align: right;\n",
       "    }\n",
       "</style>\n",
       "<table border=\"1\" class=\"dataframe\">\n",
       "  <thead>\n",
       "    <tr style=\"text-align: right;\">\n",
       "      <th></th>\n",
       "      <th>Id</th>\n",
       "      <th>MSSubClass</th>\n",
       "      <th>MSZoning</th>\n",
       "      <th>LotFrontage</th>\n",
       "      <th>LotArea</th>\n",
       "      <th>Street</th>\n",
       "      <th>Alley</th>\n",
       "      <th>LotShape</th>\n",
       "      <th>LandContour</th>\n",
       "      <th>Utilities</th>\n",
       "      <th>...</th>\n",
       "      <th>PoolArea</th>\n",
       "      <th>PoolQC</th>\n",
       "      <th>Fence</th>\n",
       "      <th>MiscFeature</th>\n",
       "      <th>MiscVal</th>\n",
       "      <th>MoSold</th>\n",
       "      <th>YrSold</th>\n",
       "      <th>SaleType</th>\n",
       "      <th>SaleCondition</th>\n",
       "      <th>SalePrice</th>\n",
       "    </tr>\n",
       "  </thead>\n",
       "  <tbody>\n",
       "    <tr>\n",
       "      <th>0</th>\n",
       "      <td>1</td>\n",
       "      <td>60</td>\n",
       "      <td>RL</td>\n",
       "      <td>65.0</td>\n",
       "      <td>8450</td>\n",
       "      <td>Pave</td>\n",
       "      <td>NaN</td>\n",
       "      <td>Reg</td>\n",
       "      <td>Lvl</td>\n",
       "      <td>AllPub</td>\n",
       "      <td>...</td>\n",
       "      <td>0</td>\n",
       "      <td>NaN</td>\n",
       "      <td>NaN</td>\n",
       "      <td>NaN</td>\n",
       "      <td>0</td>\n",
       "      <td>2</td>\n",
       "      <td>2008</td>\n",
       "      <td>WD</td>\n",
       "      <td>Normal</td>\n",
       "      <td>208500</td>\n",
       "    </tr>\n",
       "    <tr>\n",
       "      <th>1</th>\n",
       "      <td>2</td>\n",
       "      <td>20</td>\n",
       "      <td>RL</td>\n",
       "      <td>80.0</td>\n",
       "      <td>9600</td>\n",
       "      <td>Pave</td>\n",
       "      <td>NaN</td>\n",
       "      <td>Reg</td>\n",
       "      <td>Lvl</td>\n",
       "      <td>AllPub</td>\n",
       "      <td>...</td>\n",
       "      <td>0</td>\n",
       "      <td>NaN</td>\n",
       "      <td>NaN</td>\n",
       "      <td>NaN</td>\n",
       "      <td>0</td>\n",
       "      <td>5</td>\n",
       "      <td>2007</td>\n",
       "      <td>WD</td>\n",
       "      <td>Normal</td>\n",
       "      <td>181500</td>\n",
       "    </tr>\n",
       "    <tr>\n",
       "      <th>2</th>\n",
       "      <td>3</td>\n",
       "      <td>60</td>\n",
       "      <td>RL</td>\n",
       "      <td>68.0</td>\n",
       "      <td>11250</td>\n",
       "      <td>Pave</td>\n",
       "      <td>NaN</td>\n",
       "      <td>IR1</td>\n",
       "      <td>Lvl</td>\n",
       "      <td>AllPub</td>\n",
       "      <td>...</td>\n",
       "      <td>0</td>\n",
       "      <td>NaN</td>\n",
       "      <td>NaN</td>\n",
       "      <td>NaN</td>\n",
       "      <td>0</td>\n",
       "      <td>9</td>\n",
       "      <td>2008</td>\n",
       "      <td>WD</td>\n",
       "      <td>Normal</td>\n",
       "      <td>223500</td>\n",
       "    </tr>\n",
       "    <tr>\n",
       "      <th>3</th>\n",
       "      <td>4</td>\n",
       "      <td>70</td>\n",
       "      <td>RL</td>\n",
       "      <td>60.0</td>\n",
       "      <td>9550</td>\n",
       "      <td>Pave</td>\n",
       "      <td>NaN</td>\n",
       "      <td>IR1</td>\n",
       "      <td>Lvl</td>\n",
       "      <td>AllPub</td>\n",
       "      <td>...</td>\n",
       "      <td>0</td>\n",
       "      <td>NaN</td>\n",
       "      <td>NaN</td>\n",
       "      <td>NaN</td>\n",
       "      <td>0</td>\n",
       "      <td>2</td>\n",
       "      <td>2006</td>\n",
       "      <td>WD</td>\n",
       "      <td>Abnorml</td>\n",
       "      <td>140000</td>\n",
       "    </tr>\n",
       "    <tr>\n",
       "      <th>4</th>\n",
       "      <td>5</td>\n",
       "      <td>60</td>\n",
       "      <td>RL</td>\n",
       "      <td>84.0</td>\n",
       "      <td>14260</td>\n",
       "      <td>Pave</td>\n",
       "      <td>NaN</td>\n",
       "      <td>IR1</td>\n",
       "      <td>Lvl</td>\n",
       "      <td>AllPub</td>\n",
       "      <td>...</td>\n",
       "      <td>0</td>\n",
       "      <td>NaN</td>\n",
       "      <td>NaN</td>\n",
       "      <td>NaN</td>\n",
       "      <td>0</td>\n",
       "      <td>12</td>\n",
       "      <td>2008</td>\n",
       "      <td>WD</td>\n",
       "      <td>Normal</td>\n",
       "      <td>250000</td>\n",
       "    </tr>\n",
       "  </tbody>\n",
       "</table>\n",
       "<p>5 rows × 81 columns</p>\n",
       "</div>"
      ],
      "text/plain": [
       "   Id  MSSubClass MSZoning  LotFrontage  LotArea Street Alley LotShape  \\\n",
       "0   1          60       RL         65.0     8450   Pave   NaN      Reg   \n",
       "1   2          20       RL         80.0     9600   Pave   NaN      Reg   \n",
       "2   3          60       RL         68.0    11250   Pave   NaN      IR1   \n",
       "3   4          70       RL         60.0     9550   Pave   NaN      IR1   \n",
       "4   5          60       RL         84.0    14260   Pave   NaN      IR1   \n",
       "\n",
       "  LandContour Utilities  ... PoolArea PoolQC Fence MiscFeature MiscVal MoSold  \\\n",
       "0         Lvl    AllPub  ...        0    NaN   NaN         NaN       0      2   \n",
       "1         Lvl    AllPub  ...        0    NaN   NaN         NaN       0      5   \n",
       "2         Lvl    AllPub  ...        0    NaN   NaN         NaN       0      9   \n",
       "3         Lvl    AllPub  ...        0    NaN   NaN         NaN       0      2   \n",
       "4         Lvl    AllPub  ...        0    NaN   NaN         NaN       0     12   \n",
       "\n",
       "  YrSold  SaleType  SaleCondition  SalePrice  \n",
       "0   2008        WD         Normal     208500  \n",
       "1   2007        WD         Normal     181500  \n",
       "2   2008        WD         Normal     223500  \n",
       "3   2006        WD        Abnorml     140000  \n",
       "4   2008        WD         Normal     250000  \n",
       "\n",
       "[5 rows x 81 columns]"
      ]
     },
     "execution_count": 3,
     "metadata": {},
     "output_type": "execute_result"
    }
   ],
   "source": [
    "train.head()"
   ]
  },
  {
   "cell_type": "code",
   "execution_count": 4,
   "id": "320295be",
   "metadata": {
    "execution": {
     "iopub.execute_input": "2021-08-03T15:49:48.532943Z",
     "iopub.status.busy": "2021-08-03T15:49:48.532254Z",
     "iopub.status.idle": "2021-08-03T15:49:48.536755Z",
     "shell.execute_reply": "2021-08-03T15:49:48.536119Z",
     "shell.execute_reply.started": "2021-08-03T15:32:51.751584Z"
    },
    "papermill": {
     "duration": 0.056272,
     "end_time": "2021-08-03T15:49:48.536908",
     "exception": false,
     "start_time": "2021-08-03T15:49:48.480636",
     "status": "completed"
    },
    "tags": []
   },
   "outputs": [
    {
     "data": {
      "text/html": [
       "<div>\n",
       "<style scoped>\n",
       "    .dataframe tbody tr th:only-of-type {\n",
       "        vertical-align: middle;\n",
       "    }\n",
       "\n",
       "    .dataframe tbody tr th {\n",
       "        vertical-align: top;\n",
       "    }\n",
       "\n",
       "    .dataframe thead th {\n",
       "        text-align: right;\n",
       "    }\n",
       "</style>\n",
       "<table border=\"1\" class=\"dataframe\">\n",
       "  <thead>\n",
       "    <tr style=\"text-align: right;\">\n",
       "      <th></th>\n",
       "      <th>Id</th>\n",
       "      <th>MSSubClass</th>\n",
       "      <th>MSZoning</th>\n",
       "      <th>LotFrontage</th>\n",
       "      <th>LotArea</th>\n",
       "      <th>Street</th>\n",
       "      <th>Alley</th>\n",
       "      <th>LotShape</th>\n",
       "      <th>LandContour</th>\n",
       "      <th>Utilities</th>\n",
       "      <th>...</th>\n",
       "      <th>ScreenPorch</th>\n",
       "      <th>PoolArea</th>\n",
       "      <th>PoolQC</th>\n",
       "      <th>Fence</th>\n",
       "      <th>MiscFeature</th>\n",
       "      <th>MiscVal</th>\n",
       "      <th>MoSold</th>\n",
       "      <th>YrSold</th>\n",
       "      <th>SaleType</th>\n",
       "      <th>SaleCondition</th>\n",
       "    </tr>\n",
       "  </thead>\n",
       "  <tbody>\n",
       "    <tr>\n",
       "      <th>0</th>\n",
       "      <td>1461</td>\n",
       "      <td>20</td>\n",
       "      <td>RH</td>\n",
       "      <td>80.0</td>\n",
       "      <td>11622</td>\n",
       "      <td>Pave</td>\n",
       "      <td>NaN</td>\n",
       "      <td>Reg</td>\n",
       "      <td>Lvl</td>\n",
       "      <td>AllPub</td>\n",
       "      <td>...</td>\n",
       "      <td>120</td>\n",
       "      <td>0</td>\n",
       "      <td>NaN</td>\n",
       "      <td>MnPrv</td>\n",
       "      <td>NaN</td>\n",
       "      <td>0</td>\n",
       "      <td>6</td>\n",
       "      <td>2010</td>\n",
       "      <td>WD</td>\n",
       "      <td>Normal</td>\n",
       "    </tr>\n",
       "    <tr>\n",
       "      <th>1</th>\n",
       "      <td>1462</td>\n",
       "      <td>20</td>\n",
       "      <td>RL</td>\n",
       "      <td>81.0</td>\n",
       "      <td>14267</td>\n",
       "      <td>Pave</td>\n",
       "      <td>NaN</td>\n",
       "      <td>IR1</td>\n",
       "      <td>Lvl</td>\n",
       "      <td>AllPub</td>\n",
       "      <td>...</td>\n",
       "      <td>0</td>\n",
       "      <td>0</td>\n",
       "      <td>NaN</td>\n",
       "      <td>NaN</td>\n",
       "      <td>Gar2</td>\n",
       "      <td>12500</td>\n",
       "      <td>6</td>\n",
       "      <td>2010</td>\n",
       "      <td>WD</td>\n",
       "      <td>Normal</td>\n",
       "    </tr>\n",
       "    <tr>\n",
       "      <th>2</th>\n",
       "      <td>1463</td>\n",
       "      <td>60</td>\n",
       "      <td>RL</td>\n",
       "      <td>74.0</td>\n",
       "      <td>13830</td>\n",
       "      <td>Pave</td>\n",
       "      <td>NaN</td>\n",
       "      <td>IR1</td>\n",
       "      <td>Lvl</td>\n",
       "      <td>AllPub</td>\n",
       "      <td>...</td>\n",
       "      <td>0</td>\n",
       "      <td>0</td>\n",
       "      <td>NaN</td>\n",
       "      <td>MnPrv</td>\n",
       "      <td>NaN</td>\n",
       "      <td>0</td>\n",
       "      <td>3</td>\n",
       "      <td>2010</td>\n",
       "      <td>WD</td>\n",
       "      <td>Normal</td>\n",
       "    </tr>\n",
       "    <tr>\n",
       "      <th>3</th>\n",
       "      <td>1464</td>\n",
       "      <td>60</td>\n",
       "      <td>RL</td>\n",
       "      <td>78.0</td>\n",
       "      <td>9978</td>\n",
       "      <td>Pave</td>\n",
       "      <td>NaN</td>\n",
       "      <td>IR1</td>\n",
       "      <td>Lvl</td>\n",
       "      <td>AllPub</td>\n",
       "      <td>...</td>\n",
       "      <td>0</td>\n",
       "      <td>0</td>\n",
       "      <td>NaN</td>\n",
       "      <td>NaN</td>\n",
       "      <td>NaN</td>\n",
       "      <td>0</td>\n",
       "      <td>6</td>\n",
       "      <td>2010</td>\n",
       "      <td>WD</td>\n",
       "      <td>Normal</td>\n",
       "    </tr>\n",
       "    <tr>\n",
       "      <th>4</th>\n",
       "      <td>1465</td>\n",
       "      <td>120</td>\n",
       "      <td>RL</td>\n",
       "      <td>43.0</td>\n",
       "      <td>5005</td>\n",
       "      <td>Pave</td>\n",
       "      <td>NaN</td>\n",
       "      <td>IR1</td>\n",
       "      <td>HLS</td>\n",
       "      <td>AllPub</td>\n",
       "      <td>...</td>\n",
       "      <td>144</td>\n",
       "      <td>0</td>\n",
       "      <td>NaN</td>\n",
       "      <td>NaN</td>\n",
       "      <td>NaN</td>\n",
       "      <td>0</td>\n",
       "      <td>1</td>\n",
       "      <td>2010</td>\n",
       "      <td>WD</td>\n",
       "      <td>Normal</td>\n",
       "    </tr>\n",
       "  </tbody>\n",
       "</table>\n",
       "<p>5 rows × 80 columns</p>\n",
       "</div>"
      ],
      "text/plain": [
       "     Id  MSSubClass MSZoning  LotFrontage  LotArea Street Alley LotShape  \\\n",
       "0  1461          20       RH         80.0    11622   Pave   NaN      Reg   \n",
       "1  1462          20       RL         81.0    14267   Pave   NaN      IR1   \n",
       "2  1463          60       RL         74.0    13830   Pave   NaN      IR1   \n",
       "3  1464          60       RL         78.0     9978   Pave   NaN      IR1   \n",
       "4  1465         120       RL         43.0     5005   Pave   NaN      IR1   \n",
       "\n",
       "  LandContour Utilities  ... ScreenPorch PoolArea PoolQC  Fence MiscFeature  \\\n",
       "0         Lvl    AllPub  ...         120        0    NaN  MnPrv         NaN   \n",
       "1         Lvl    AllPub  ...           0        0    NaN    NaN        Gar2   \n",
       "2         Lvl    AllPub  ...           0        0    NaN  MnPrv         NaN   \n",
       "3         Lvl    AllPub  ...           0        0    NaN    NaN         NaN   \n",
       "4         HLS    AllPub  ...         144        0    NaN    NaN         NaN   \n",
       "\n",
       "  MiscVal MoSold  YrSold  SaleType  SaleCondition  \n",
       "0       0      6    2010        WD         Normal  \n",
       "1   12500      6    2010        WD         Normal  \n",
       "2       0      3    2010        WD         Normal  \n",
       "3       0      6    2010        WD         Normal  \n",
       "4       0      1    2010        WD         Normal  \n",
       "\n",
       "[5 rows x 80 columns]"
      ]
     },
     "execution_count": 4,
     "metadata": {},
     "output_type": "execute_result"
    }
   ],
   "source": [
    "test.head()"
   ]
  },
  {
   "cell_type": "code",
   "execution_count": 5,
   "id": "ae5fa358",
   "metadata": {
    "execution": {
     "iopub.execute_input": "2021-08-03T15:49:48.600166Z",
     "iopub.status.busy": "2021-08-03T15:49:48.599096Z",
     "iopub.status.idle": "2021-08-03T15:49:48.603732Z",
     "shell.execute_reply": "2021-08-03T15:49:48.603071Z",
     "shell.execute_reply.started": "2021-08-03T15:32:51.786772Z"
    },
    "papermill": {
     "duration": 0.040357,
     "end_time": "2021-08-03T15:49:48.603885",
     "exception": false,
     "start_time": "2021-08-03T15:49:48.563528",
     "status": "completed"
    },
    "tags": []
   },
   "outputs": [
    {
     "data": {
      "text/html": [
       "<div>\n",
       "<style scoped>\n",
       "    .dataframe tbody tr th:only-of-type {\n",
       "        vertical-align: middle;\n",
       "    }\n",
       "\n",
       "    .dataframe tbody tr th {\n",
       "        vertical-align: top;\n",
       "    }\n",
       "\n",
       "    .dataframe thead th {\n",
       "        text-align: right;\n",
       "    }\n",
       "</style>\n",
       "<table border=\"1\" class=\"dataframe\">\n",
       "  <thead>\n",
       "    <tr style=\"text-align: right;\">\n",
       "      <th></th>\n",
       "      <th>Id</th>\n",
       "      <th>SalePrice</th>\n",
       "    </tr>\n",
       "  </thead>\n",
       "  <tbody>\n",
       "    <tr>\n",
       "      <th>0</th>\n",
       "      <td>1461</td>\n",
       "      <td>169277.052498</td>\n",
       "    </tr>\n",
       "    <tr>\n",
       "      <th>1</th>\n",
       "      <td>1462</td>\n",
       "      <td>187758.393989</td>\n",
       "    </tr>\n",
       "    <tr>\n",
       "      <th>2</th>\n",
       "      <td>1463</td>\n",
       "      <td>183583.683570</td>\n",
       "    </tr>\n",
       "    <tr>\n",
       "      <th>3</th>\n",
       "      <td>1464</td>\n",
       "      <td>179317.477511</td>\n",
       "    </tr>\n",
       "    <tr>\n",
       "      <th>4</th>\n",
       "      <td>1465</td>\n",
       "      <td>150730.079977</td>\n",
       "    </tr>\n",
       "  </tbody>\n",
       "</table>\n",
       "</div>"
      ],
      "text/plain": [
       "     Id      SalePrice\n",
       "0  1461  169277.052498\n",
       "1  1462  187758.393989\n",
       "2  1463  183583.683570\n",
       "3  1464  179317.477511\n",
       "4  1465  150730.079977"
      ]
     },
     "execution_count": 5,
     "metadata": {},
     "output_type": "execute_result"
    }
   ],
   "source": [
    "samsub.head()"
   ]
  },
  {
   "cell_type": "markdown",
   "id": "f858897a",
   "metadata": {
    "papermill": {
     "duration": 0.025434,
     "end_time": "2021-08-03T15:49:48.654909",
     "exception": false,
     "start_time": "2021-08-03T15:49:48.629475",
     "status": "completed"
    },
    "tags": []
   },
   "source": []
  },
  {
   "cell_type": "code",
   "execution_count": 6,
   "id": "280f14c8",
   "metadata": {
    "execution": {
     "iopub.execute_input": "2021-08-03T15:49:48.739317Z",
     "iopub.status.busy": "2021-08-03T15:49:48.718876Z",
     "iopub.status.idle": "2021-08-03T15:49:48.743692Z",
     "shell.execute_reply": "2021-08-03T15:49:48.744191Z",
     "shell.execute_reply.started": "2021-08-03T15:32:51.810242Z"
    },
    "papermill": {
     "duration": 0.06398,
     "end_time": "2021-08-03T15:49:48.744475",
     "exception": false,
     "start_time": "2021-08-03T15:49:48.680495",
     "status": "completed"
    },
    "tags": []
   },
   "outputs": [
    {
     "name": "stdout",
     "output_type": "stream",
     "text": [
      "<class 'pandas.core.frame.DataFrame'>\n",
      "RangeIndex: 1460 entries, 0 to 1459\n",
      "Data columns (total 81 columns):\n",
      " #   Column         Non-Null Count  Dtype  \n",
      "---  ------         --------------  -----  \n",
      " 0   Id             1460 non-null   int64  \n",
      " 1   MSSubClass     1460 non-null   int64  \n",
      " 2   MSZoning       1460 non-null   object \n",
      " 3   LotFrontage    1201 non-null   float64\n",
      " 4   LotArea        1460 non-null   int64  \n",
      " 5   Street         1460 non-null   object \n",
      " 6   Alley          91 non-null     object \n",
      " 7   LotShape       1460 non-null   object \n",
      " 8   LandContour    1460 non-null   object \n",
      " 9   Utilities      1460 non-null   object \n",
      " 10  LotConfig      1460 non-null   object \n",
      " 11  LandSlope      1460 non-null   object \n",
      " 12  Neighborhood   1460 non-null   object \n",
      " 13  Condition1     1460 non-null   object \n",
      " 14  Condition2     1460 non-null   object \n",
      " 15  BldgType       1460 non-null   object \n",
      " 16  HouseStyle     1460 non-null   object \n",
      " 17  OverallQual    1460 non-null   int64  \n",
      " 18  OverallCond    1460 non-null   int64  \n",
      " 19  YearBuilt      1460 non-null   int64  \n",
      " 20  YearRemodAdd   1460 non-null   int64  \n",
      " 21  RoofStyle      1460 non-null   object \n",
      " 22  RoofMatl       1460 non-null   object \n",
      " 23  Exterior1st    1460 non-null   object \n",
      " 24  Exterior2nd    1460 non-null   object \n",
      " 25  MasVnrType     1452 non-null   object \n",
      " 26  MasVnrArea     1452 non-null   float64\n",
      " 27  ExterQual      1460 non-null   object \n",
      " 28  ExterCond      1460 non-null   object \n",
      " 29  Foundation     1460 non-null   object \n",
      " 30  BsmtQual       1423 non-null   object \n",
      " 31  BsmtCond       1423 non-null   object \n",
      " 32  BsmtExposure   1422 non-null   object \n",
      " 33  BsmtFinType1   1423 non-null   object \n",
      " 34  BsmtFinSF1     1460 non-null   int64  \n",
      " 35  BsmtFinType2   1422 non-null   object \n",
      " 36  BsmtFinSF2     1460 non-null   int64  \n",
      " 37  BsmtUnfSF      1460 non-null   int64  \n",
      " 38  TotalBsmtSF    1460 non-null   int64  \n",
      " 39  Heating        1460 non-null   object \n",
      " 40  HeatingQC      1460 non-null   object \n",
      " 41  CentralAir     1460 non-null   object \n",
      " 42  Electrical     1459 non-null   object \n",
      " 43  1stFlrSF       1460 non-null   int64  \n",
      " 44  2ndFlrSF       1460 non-null   int64  \n",
      " 45  LowQualFinSF   1460 non-null   int64  \n",
      " 46  GrLivArea      1460 non-null   int64  \n",
      " 47  BsmtFullBath   1460 non-null   int64  \n",
      " 48  BsmtHalfBath   1460 non-null   int64  \n",
      " 49  FullBath       1460 non-null   int64  \n",
      " 50  HalfBath       1460 non-null   int64  \n",
      " 51  BedroomAbvGr   1460 non-null   int64  \n",
      " 52  KitchenAbvGr   1460 non-null   int64  \n",
      " 53  KitchenQual    1460 non-null   object \n",
      " 54  TotRmsAbvGrd   1460 non-null   int64  \n",
      " 55  Functional     1460 non-null   object \n",
      " 56  Fireplaces     1460 non-null   int64  \n",
      " 57  FireplaceQu    770 non-null    object \n",
      " 58  GarageType     1379 non-null   object \n",
      " 59  GarageYrBlt    1379 non-null   float64\n",
      " 60  GarageFinish   1379 non-null   object \n",
      " 61  GarageCars     1460 non-null   int64  \n",
      " 62  GarageArea     1460 non-null   int64  \n",
      " 63  GarageQual     1379 non-null   object \n",
      " 64  GarageCond     1379 non-null   object \n",
      " 65  PavedDrive     1460 non-null   object \n",
      " 66  WoodDeckSF     1460 non-null   int64  \n",
      " 67  OpenPorchSF    1460 non-null   int64  \n",
      " 68  EnclosedPorch  1460 non-null   int64  \n",
      " 69  3SsnPorch      1460 non-null   int64  \n",
      " 70  ScreenPorch    1460 non-null   int64  \n",
      " 71  PoolArea       1460 non-null   int64  \n",
      " 72  PoolQC         7 non-null      object \n",
      " 73  Fence          281 non-null    object \n",
      " 74  MiscFeature    54 non-null     object \n",
      " 75  MiscVal        1460 non-null   int64  \n",
      " 76  MoSold         1460 non-null   int64  \n",
      " 77  YrSold         1460 non-null   int64  \n",
      " 78  SaleType       1460 non-null   object \n",
      " 79  SaleCondition  1460 non-null   object \n",
      " 80  SalePrice      1460 non-null   int64  \n",
      "dtypes: float64(3), int64(35), object(43)\n",
      "memory usage: 924.0+ KB\n"
     ]
    }
   ],
   "source": [
    "train.info()"
   ]
  },
  {
   "cell_type": "code",
   "execution_count": 7,
   "id": "4953439c",
   "metadata": {
    "execution": {
     "iopub.execute_input": "2021-08-03T15:49:48.804289Z",
     "iopub.status.busy": "2021-08-03T15:49:48.803604Z",
     "iopub.status.idle": "2021-08-03T15:49:48.806135Z",
     "shell.execute_reply": "2021-08-03T15:49:48.805502Z",
     "shell.execute_reply.started": "2021-08-03T15:32:51.855565Z"
    },
    "papermill": {
     "duration": 0.034917,
     "end_time": "2021-08-03T15:49:48.806318",
     "exception": false,
     "start_time": "2021-08-03T15:49:48.771401",
     "status": "completed"
    },
    "tags": []
   },
   "outputs": [],
   "source": [
    "test['MSZoning'] = test['MSZoning'].fillna(test['MSZoning'].mode()[0])"
   ]
  },
  {
   "cell_type": "code",
   "execution_count": 8,
   "id": "077c9169",
   "metadata": {
    "execution": {
     "iopub.execute_input": "2021-08-03T15:49:48.869943Z",
     "iopub.status.busy": "2021-08-03T15:49:48.869178Z",
     "iopub.status.idle": "2021-08-03T15:49:48.888650Z",
     "shell.execute_reply": "2021-08-03T15:49:48.887977Z",
     "shell.execute_reply.started": "2021-08-03T15:32:51.867211Z"
    },
    "papermill": {
     "duration": 0.056296,
     "end_time": "2021-08-03T15:49:48.888853",
     "exception": false,
     "start_time": "2021-08-03T15:49:48.832557",
     "status": "completed"
    },
    "tags": []
   },
   "outputs": [
    {
     "name": "stdout",
     "output_type": "stream",
     "text": [
      "<class 'pandas.core.frame.DataFrame'>\n",
      "RangeIndex: 1459 entries, 0 to 1458\n",
      "Data columns (total 80 columns):\n",
      " #   Column         Non-Null Count  Dtype  \n",
      "---  ------         --------------  -----  \n",
      " 0   Id             1459 non-null   int64  \n",
      " 1   MSSubClass     1459 non-null   int64  \n",
      " 2   MSZoning       1459 non-null   object \n",
      " 3   LotFrontage    1232 non-null   float64\n",
      " 4   LotArea        1459 non-null   int64  \n",
      " 5   Street         1459 non-null   object \n",
      " 6   Alley          107 non-null    object \n",
      " 7   LotShape       1459 non-null   object \n",
      " 8   LandContour    1459 non-null   object \n",
      " 9   Utilities      1457 non-null   object \n",
      " 10  LotConfig      1459 non-null   object \n",
      " 11  LandSlope      1459 non-null   object \n",
      " 12  Neighborhood   1459 non-null   object \n",
      " 13  Condition1     1459 non-null   object \n",
      " 14  Condition2     1459 non-null   object \n",
      " 15  BldgType       1459 non-null   object \n",
      " 16  HouseStyle     1459 non-null   object \n",
      " 17  OverallQual    1459 non-null   int64  \n",
      " 18  OverallCond    1459 non-null   int64  \n",
      " 19  YearBuilt      1459 non-null   int64  \n",
      " 20  YearRemodAdd   1459 non-null   int64  \n",
      " 21  RoofStyle      1459 non-null   object \n",
      " 22  RoofMatl       1459 non-null   object \n",
      " 23  Exterior1st    1458 non-null   object \n",
      " 24  Exterior2nd    1458 non-null   object \n",
      " 25  MasVnrType     1443 non-null   object \n",
      " 26  MasVnrArea     1444 non-null   float64\n",
      " 27  ExterQual      1459 non-null   object \n",
      " 28  ExterCond      1459 non-null   object \n",
      " 29  Foundation     1459 non-null   object \n",
      " 30  BsmtQual       1415 non-null   object \n",
      " 31  BsmtCond       1414 non-null   object \n",
      " 32  BsmtExposure   1415 non-null   object \n",
      " 33  BsmtFinType1   1417 non-null   object \n",
      " 34  BsmtFinSF1     1458 non-null   float64\n",
      " 35  BsmtFinType2   1417 non-null   object \n",
      " 36  BsmtFinSF2     1458 non-null   float64\n",
      " 37  BsmtUnfSF      1458 non-null   float64\n",
      " 38  TotalBsmtSF    1458 non-null   float64\n",
      " 39  Heating        1459 non-null   object \n",
      " 40  HeatingQC      1459 non-null   object \n",
      " 41  CentralAir     1459 non-null   object \n",
      " 42  Electrical     1459 non-null   object \n",
      " 43  1stFlrSF       1459 non-null   int64  \n",
      " 44  2ndFlrSF       1459 non-null   int64  \n",
      " 45  LowQualFinSF   1459 non-null   int64  \n",
      " 46  GrLivArea      1459 non-null   int64  \n",
      " 47  BsmtFullBath   1457 non-null   float64\n",
      " 48  BsmtHalfBath   1457 non-null   float64\n",
      " 49  FullBath       1459 non-null   int64  \n",
      " 50  HalfBath       1459 non-null   int64  \n",
      " 51  BedroomAbvGr   1459 non-null   int64  \n",
      " 52  KitchenAbvGr   1459 non-null   int64  \n",
      " 53  KitchenQual    1458 non-null   object \n",
      " 54  TotRmsAbvGrd   1459 non-null   int64  \n",
      " 55  Functional     1457 non-null   object \n",
      " 56  Fireplaces     1459 non-null   int64  \n",
      " 57  FireplaceQu    729 non-null    object \n",
      " 58  GarageType     1383 non-null   object \n",
      " 59  GarageYrBlt    1381 non-null   float64\n",
      " 60  GarageFinish   1381 non-null   object \n",
      " 61  GarageCars     1458 non-null   float64\n",
      " 62  GarageArea     1458 non-null   float64\n",
      " 63  GarageQual     1381 non-null   object \n",
      " 64  GarageCond     1381 non-null   object \n",
      " 65  PavedDrive     1459 non-null   object \n",
      " 66  WoodDeckSF     1459 non-null   int64  \n",
      " 67  OpenPorchSF    1459 non-null   int64  \n",
      " 68  EnclosedPorch  1459 non-null   int64  \n",
      " 69  3SsnPorch      1459 non-null   int64  \n",
      " 70  ScreenPorch    1459 non-null   int64  \n",
      " 71  PoolArea       1459 non-null   int64  \n",
      " 72  PoolQC         3 non-null      object \n",
      " 73  Fence          290 non-null    object \n",
      " 74  MiscFeature    51 non-null     object \n",
      " 75  MiscVal        1459 non-null   int64  \n",
      " 76  MoSold         1459 non-null   int64  \n",
      " 77  YrSold         1459 non-null   int64  \n",
      " 78  SaleType       1458 non-null   object \n",
      " 79  SaleCondition  1459 non-null   object \n",
      "dtypes: float64(11), int64(26), object(43)\n",
      "memory usage: 912.0+ KB\n"
     ]
    }
   ],
   "source": [
    "test.info()"
   ]
  },
  {
   "cell_type": "code",
   "execution_count": 9,
   "id": "804b8030",
   "metadata": {
    "execution": {
     "iopub.execute_input": "2021-08-03T15:49:48.949956Z",
     "iopub.status.busy": "2021-08-03T15:49:48.949143Z",
     "iopub.status.idle": "2021-08-03T15:49:48.956019Z",
     "shell.execute_reply": "2021-08-03T15:49:48.955441Z",
     "shell.execute_reply.started": "2021-08-03T15:32:51.913094Z"
    },
    "papermill": {
     "duration": 0.039403,
     "end_time": "2021-08-03T15:49:48.956162",
     "exception": false,
     "start_time": "2021-08-03T15:49:48.916759",
     "status": "completed"
    },
    "tags": []
   },
   "outputs": [],
   "source": [
    "train.drop(['Alley'], axis =1, inplace = True)\n",
    "test.drop(['Alley'], axis = 1, inplace = True)"
   ]
  },
  {
   "cell_type": "code",
   "execution_count": 10,
   "id": "0a42f9fe",
   "metadata": {
    "execution": {
     "iopub.execute_input": "2021-08-03T15:49:49.013848Z",
     "iopub.status.busy": "2021-08-03T15:49:49.013154Z",
     "iopub.status.idle": "2021-08-03T15:49:49.039152Z",
     "shell.execute_reply": "2021-08-03T15:49:49.039739Z",
     "shell.execute_reply.started": "2021-08-03T15:32:51.925253Z"
    },
    "papermill": {
     "duration": 0.057299,
     "end_time": "2021-08-03T15:49:49.039918",
     "exception": false,
     "start_time": "2021-08-03T15:49:48.982619",
     "status": "completed"
    },
    "tags": []
   },
   "outputs": [],
   "source": [
    "train['LotFrontage'] = train['LotFrontage'].fillna(train['LotFrontage'].mean())\n",
    "train['MasVnrType'] = train['MasVnrType'].fillna(train['MasVnrType'].mode()[0])\n",
    "train['MasVnrArea'] = train['MasVnrArea'].fillna(train['MasVnrArea'].mean())\n",
    "train['BsmtQual'] = train['BsmtQual'].fillna(train['BsmtQual'].mode()[0])\n",
    "train['BsmtCond'] = train['BsmtCond'].fillna(train['BsmtCond'].mode()[0])\n",
    "train['BsmtExposure'] = train['BsmtExposure'].fillna(train['BsmtExposure'].mode()[0])\n",
    "train['BsmtFinType1'] = train['BsmtFinType1'].fillna(train['BsmtFinType1'].mode()[0])\n",
    "train['BsmtFinType2'] = train['BsmtFinType2'].fillna(train['BsmtFinType2'].mode()[0])\n",
    "train['Electrical'] = train['Electrical'].fillna(train['Electrical'].mode()[0])\n",
    "train['FireplaceQu'] = train['FireplaceQu'].fillna(train['FireplaceQu'].mode()[0])\n",
    "train['GarageType'] = train['GarageType'].fillna(train['GarageType'].mode()[0])\n",
    "train['GarageYrBlt'] = train['GarageYrBlt'].fillna(train['GarageYrBlt'].mean())\n",
    "train['GarageFinish'] = train['GarageFinish'].fillna(train['GarageFinish'].mode()[0])\n",
    "train['GarageQual'] = train['GarageQual'].fillna(train['GarageQual'].mode()[0])\n",
    "train['GarageCond'] = train['GarageCond'].fillna(train['GarageCond'].mode()[0])"
   ]
  },
  {
   "cell_type": "code",
   "execution_count": 11,
   "id": "351786cd",
   "metadata": {
    "execution": {
     "iopub.execute_input": "2021-08-03T15:49:49.096892Z",
     "iopub.status.busy": "2021-08-03T15:49:49.096127Z",
     "iopub.status.idle": "2021-08-03T15:49:49.107295Z",
     "shell.execute_reply": "2021-08-03T15:49:49.107956Z",
     "shell.execute_reply.started": "2021-08-03T15:32:51.956877Z"
    },
    "papermill": {
     "duration": 0.041657,
     "end_time": "2021-08-03T15:49:49.108144",
     "exception": false,
     "start_time": "2021-08-03T15:49:49.066487",
     "status": "completed"
    },
    "tags": []
   },
   "outputs": [],
   "source": [
    "train.drop(['PoolQC'], axis =1, inplace = True)\n",
    "train.drop(['Fence'], axis =1, inplace = True)\n",
    "train.drop(['MiscFeature'], axis =1, inplace = True)"
   ]
  },
  {
   "cell_type": "code",
   "execution_count": 12,
   "id": "5addd263",
   "metadata": {
    "execution": {
     "iopub.execute_input": "2021-08-03T15:49:49.166513Z",
     "iopub.status.busy": "2021-08-03T15:49:49.165741Z",
     "iopub.status.idle": "2021-08-03T15:49:49.203807Z",
     "shell.execute_reply": "2021-08-03T15:49:49.204375Z",
     "shell.execute_reply.started": "2021-08-03T15:32:51.977623Z"
    },
    "papermill": {
     "duration": 0.068705,
     "end_time": "2021-08-03T15:49:49.204574",
     "exception": false,
     "start_time": "2021-08-03T15:49:49.135869",
     "status": "completed"
    },
    "tags": []
   },
   "outputs": [],
   "source": [
    "test['Utilities']= test['Utilities'].fillna(test['Utilities'].mode()[0])\n",
    "test['LotFrontage'] = test['LotFrontage'].fillna(test['LotFrontage'].mean())\n",
    "test['Exterior1st'] = test['Exterior1st'].fillna(test['Exterior1st'].mode()[0])\n",
    "test['Exterior2nd'] = test['Exterior2nd'].fillna(test['Exterior2nd'].mode()[0])\n",
    "test['MasVnrType'] = test['MasVnrType'].fillna(test['MasVnrType'].mode()[0])\n",
    "test['MasVnrArea'] = test['MasVnrArea'].fillna(test['MasVnrArea'].mean())\n",
    "test['BsmtQual'] = test['BsmtQual'].fillna(test['BsmtQual'].mode()[0])\n",
    "test['BsmtCond'] = test['BsmtCond'].fillna(test['BsmtCond'].mode()[0])\n",
    "test['BsmtExposure'] = test['BsmtExposure'].fillna(test['BsmtExposure'].mode()[0])\n",
    "test['BsmtFinType1'] = test['BsmtFinType1'].fillna(test['BsmtFinType1'].mode()[0])\n",
    "test['BsmtFinType2'] = test['BsmtFinType2'].fillna(test['BsmtFinType2'].mode()[0])\n",
    "test['BsmtFinSF1'] = test['BsmtFinSF1'].fillna(test['BsmtFinSF1'].mean())\n",
    "test['BsmtFinSF2'] = test['BsmtFinSF2'].fillna(test['BsmtFinSF2'].mean())\n",
    "test['BsmtUnfSF'] = test['BsmtUnfSF'].fillna(test['BsmtUnfSF'].mean())\n",
    "test['TotalBsmtSF'] = test['TotalBsmtSF'].fillna(test['TotalBsmtSF'].mean())\n",
    "test['BsmtFullBath'] = test['BsmtFullBath'].fillna(test['BsmtFullBath'].mean())\n",
    "test['BsmtHalfBath'] = test['BsmtHalfBath'].fillna(test['BsmtHalfBath'].mean())\n",
    "test['KitchenQual'] = test['KitchenQual'].fillna(test['KitchenQual'].mode()[0])\n",
    "test['Functional'] = test['Functional'].fillna(test['Functional'].mode()[0])\n",
    "test['FireplaceQu'] = test['FireplaceQu'].fillna(test['FireplaceQu'].mode()[0])\n",
    "test['GarageType'] = test['GarageType'].fillna(test['GarageType'].mode()[0])\n",
    "test['GarageYrBlt'] = test['GarageYrBlt'].fillna(test['GarageYrBlt'].mean())\n",
    "test['GarageFinish'] = test['GarageFinish'].fillna(test['GarageFinish'].mode()[0])\n",
    "test['GarageCars'] = test['GarageCars'].fillna(test['GarageCars'].mean())\n",
    "test['GarageArea'] = test['GarageArea'].fillna(test['GarageArea'].mean())\n",
    "test['GarageQual'] = test['GarageQual'].fillna(test['GarageQual'].mode()[0])\n",
    "test['GarageCond'] =test['GarageCond'].fillna(test['GarageCond'].mode()[0])\n",
    "test['SaleType'] =test['SaleType'].fillna(test['SaleType'].mode()[0])"
   ]
  },
  {
   "cell_type": "code",
   "execution_count": 13,
   "id": "1b0f03ad",
   "metadata": {
    "execution": {
     "iopub.execute_input": "2021-08-03T15:49:49.261290Z",
     "iopub.status.busy": "2021-08-03T15:49:49.260649Z",
     "iopub.status.idle": "2021-08-03T15:49:49.271001Z",
     "shell.execute_reply": "2021-08-03T15:49:49.271499Z",
     "shell.execute_reply.started": "2021-08-03T15:32:52.024884Z"
    },
    "papermill": {
     "duration": 0.040009,
     "end_time": "2021-08-03T15:49:49.271709",
     "exception": false,
     "start_time": "2021-08-03T15:49:49.231700",
     "status": "completed"
    },
    "tags": []
   },
   "outputs": [],
   "source": [
    "test.drop(['PoolQC'], axis =1, inplace = True)\n",
    "test.drop(['Fence'], axis =1, inplace = True)\n",
    "test.drop(['MiscFeature'], axis =1, inplace = True)"
   ]
  },
  {
   "cell_type": "markdown",
   "id": "ff8efaaf",
   "metadata": {
    "papermill": {
     "duration": 0.026258,
     "end_time": "2021-08-03T15:49:49.325080",
     "exception": false,
     "start_time": "2021-08-03T15:49:49.298822",
     "status": "completed"
    },
    "tags": []
   },
   "source": [
    "columns=['MSZoning','Street','LotShape','LandContour','Utilities','LotConfig','LandSlope','Neighborhood',\n",
    "         'Condition2','BldgType','Condition1','HouseStyle','SaleType',\n",
    "        'SaleCondition','ExterCond',\n",
    "         'ExterQual','Foundation','BsmtQual','BsmtCond','BsmtExposure','BsmtFinType1','BsmtFinType2',\n",
    "        'RoofStyle','RoofMatl','Exterior1st','Exterior2nd','MasVnrType','Heating','HeatingQC',\n",
    "         'CentralAir',\n",
    "         'Electrical','KitchenQual','Functional',\n",
    "         'FireplaceQu','GarageType','GarageFinish','GarageQual','GarageCond','PavedDrive']"
   ]
  },
  {
   "cell_type": "code",
   "execution_count": 14,
   "id": "49a764dd",
   "metadata": {
    "execution": {
     "iopub.execute_input": "2021-08-03T15:49:49.384420Z",
     "iopub.status.busy": "2021-08-03T15:49:49.383482Z",
     "iopub.status.idle": "2021-08-03T15:49:49.387496Z",
     "shell.execute_reply": "2021-08-03T15:49:49.388066Z",
     "shell.execute_reply.started": "2021-08-03T15:32:52.051330Z"
    },
    "papermill": {
     "duration": 0.036144,
     "end_time": "2021-08-03T15:49:49.388274",
     "exception": false,
     "start_time": "2021-08-03T15:49:49.352130",
     "status": "completed"
    },
    "tags": []
   },
   "outputs": [],
   "source": [
    "df_train = train.copy()\n",
    "df_test = test.copy()"
   ]
  },
  {
   "cell_type": "code",
   "execution_count": 15,
   "id": "789f2d2a",
   "metadata": {
    "execution": {
     "iopub.execute_input": "2021-08-03T15:49:49.449428Z",
     "iopub.status.busy": "2021-08-03T15:49:49.446621Z",
     "iopub.status.idle": "2021-08-03T15:49:49.466327Z",
     "shell.execute_reply": "2021-08-03T15:49:49.465591Z",
     "shell.execute_reply.started": "2021-08-03T15:32:52.065997Z"
    },
    "papermill": {
     "duration": 0.051744,
     "end_time": "2021-08-03T15:49:49.466481",
     "exception": false,
     "start_time": "2021-08-03T15:49:49.414737",
     "status": "completed"
    },
    "tags": []
   },
   "outputs": [],
   "source": [
    "df= pd.concat([train,test], axis=0)"
   ]
  },
  {
   "cell_type": "code",
   "execution_count": 16,
   "id": "ede82e0a",
   "metadata": {
    "execution": {
     "iopub.execute_input": "2021-08-03T15:49:49.526461Z",
     "iopub.status.busy": "2021-08-03T15:49:49.525750Z",
     "iopub.status.idle": "2021-08-03T15:49:49.528824Z",
     "shell.execute_reply": "2021-08-03T15:49:49.529366Z",
     "shell.execute_reply.started": "2021-08-03T15:32:52.098013Z"
    },
    "papermill": {
     "duration": 0.036687,
     "end_time": "2021-08-03T15:49:49.529541",
     "exception": false,
     "start_time": "2021-08-03T15:49:49.492854",
     "status": "completed"
    },
    "tags": []
   },
   "outputs": [],
   "source": [
    "columns=['MSZoning','Street','LotShape','LandContour','Utilities','LotConfig','LandSlope','Neighborhood',\n",
    "         'Condition2','BldgType','Condition1','HouseStyle','SaleType', 'SaleCondition','ExterCond', \n",
    "         'ExterQual','Foundation','BsmtQual','BsmtCond','BsmtExposure','BsmtFinType1','BsmtFinType2',\n",
    "         'RoofStyle','RoofMatl','Exterior1st','Exterior2nd','MasVnrType','Heating','HeatingQC', 'CentralAir',\n",
    "         'Electrical','KitchenQual','Functional', 'FireplaceQu','GarageType','GarageFinish','GarageQual',\n",
    "         'GarageCond','PavedDrive']"
   ]
  },
  {
   "cell_type": "code",
   "execution_count": 17,
   "id": "5ececc4c",
   "metadata": {
    "execution": {
     "iopub.execute_input": "2021-08-03T15:49:49.591667Z",
     "iopub.status.busy": "2021-08-03T15:49:49.590854Z",
     "iopub.status.idle": "2021-08-03T15:49:49.594321Z",
     "shell.execute_reply": "2021-08-03T15:49:49.593638Z",
     "shell.execute_reply.started": "2021-08-03T15:32:52.107332Z"
    },
    "papermill": {
     "duration": 0.037529,
     "end_time": "2021-08-03T15:49:49.594466",
     "exception": false,
     "start_time": "2021-08-03T15:49:49.556937",
     "status": "completed"
    },
    "tags": []
   },
   "outputs": [],
   "source": [
    "def com(mcols):\n",
    "    main = df\n",
    "    i=0\n",
    "    \n",
    "    for f in mcols:\n",
    "        df1= pd.get_dummies(df[f],drop_first= True)\n",
    "        df.drop([f], axis=1, inplace= True)\n",
    "        if i==0:\n",
    "            main= df1.copy()\n",
    "        else:\n",
    "            main = pd.concat([main,df1],axis=1)\n",
    "        i= i+1\n",
    "    \n",
    "    main = pd.concat([df,main],axis=1)\n",
    "    \n",
    "    return main"
   ]
  },
  {
   "cell_type": "code",
   "execution_count": 18,
   "id": "75d38052",
   "metadata": {
    "execution": {
     "iopub.execute_input": "2021-08-03T15:49:49.653757Z",
     "iopub.status.busy": "2021-08-03T15:49:49.653017Z",
     "iopub.status.idle": "2021-08-03T15:49:49.790045Z",
     "shell.execute_reply": "2021-08-03T15:49:49.790643Z",
     "shell.execute_reply.started": "2021-08-03T15:32:52.123054Z"
    },
    "papermill": {
     "duration": 0.169761,
     "end_time": "2021-08-03T15:49:49.790828",
     "exception": false,
     "start_time": "2021-08-03T15:49:49.621067",
     "status": "completed"
    },
    "tags": []
   },
   "outputs": [],
   "source": [
    "df= com(columns)"
   ]
  },
  {
   "cell_type": "code",
   "execution_count": 19,
   "id": "487082da",
   "metadata": {
    "execution": {
     "iopub.execute_input": "2021-08-03T15:49:49.847139Z",
     "iopub.status.busy": "2021-08-03T15:49:49.846403Z",
     "iopub.status.idle": "2021-08-03T15:49:49.853512Z",
     "shell.execute_reply": "2021-08-03T15:49:49.854067Z",
     "shell.execute_reply.started": "2021-08-03T15:32:52.290701Z"
    },
    "papermill": {
     "duration": 0.036772,
     "end_time": "2021-08-03T15:49:49.854260",
     "exception": false,
     "start_time": "2021-08-03T15:49:49.817488",
     "status": "completed"
    },
    "tags": []
   },
   "outputs": [],
   "source": [
    "df = df.loc[:,~df.columns.duplicated()]"
   ]
  },
  {
   "cell_type": "code",
   "execution_count": 20,
   "id": "877981df",
   "metadata": {
    "execution": {
     "iopub.execute_input": "2021-08-03T15:49:49.913313Z",
     "iopub.status.busy": "2021-08-03T15:49:49.912583Z",
     "iopub.status.idle": "2021-08-03T15:49:49.915830Z",
     "shell.execute_reply": "2021-08-03T15:49:49.916340Z",
     "shell.execute_reply.started": "2021-08-03T15:33:17.892326Z"
    },
    "papermill": {
     "duration": 0.0357,
     "end_time": "2021-08-03T15:49:49.916525",
     "exception": false,
     "start_time": "2021-08-03T15:49:49.880825",
     "status": "completed"
    },
    "tags": []
   },
   "outputs": [
    {
     "data": {
      "text/plain": [
       "(1460, 77)"
      ]
     },
     "execution_count": 20,
     "metadata": {},
     "output_type": "execute_result"
    }
   ],
   "source": [
    "df_train.shape"
   ]
  },
  {
   "cell_type": "code",
   "execution_count": 21,
   "id": "ca22a3d1",
   "metadata": {
    "execution": {
     "iopub.execute_input": "2021-08-03T15:49:49.973611Z",
     "iopub.status.busy": "2021-08-03T15:49:49.972628Z",
     "iopub.status.idle": "2021-08-03T15:49:49.978705Z",
     "shell.execute_reply": "2021-08-03T15:49:49.977954Z",
     "shell.execute_reply.started": "2021-08-03T15:32:52.314710Z"
    },
    "papermill": {
     "duration": 0.035524,
     "end_time": "2021-08-03T15:49:49.978901",
     "exception": false,
     "start_time": "2021-08-03T15:49:49.943377",
     "status": "completed"
    },
    "tags": []
   },
   "outputs": [],
   "source": [
    "df_train= df.iloc[:1460, :]\n",
    "df_test= df.iloc[1460:, :]"
   ]
  },
  {
   "cell_type": "code",
   "execution_count": 22,
   "id": "f5ece6ff",
   "metadata": {
    "execution": {
     "iopub.execute_input": "2021-08-03T15:49:50.037562Z",
     "iopub.status.busy": "2021-08-03T15:49:50.036767Z",
     "iopub.status.idle": "2021-08-03T15:49:50.048191Z",
     "shell.execute_reply": "2021-08-03T15:49:50.048763Z",
     "shell.execute_reply.started": "2021-08-03T15:32:52.330302Z"
    },
    "papermill": {
     "duration": 0.042535,
     "end_time": "2021-08-03T15:49:50.048938",
     "exception": false,
     "start_time": "2021-08-03T15:49:50.006403",
     "status": "completed"
    },
    "tags": []
   },
   "outputs": [
    {
     "name": "stderr",
     "output_type": "stream",
     "text": [
      "/opt/conda/lib/python3.7/site-packages/pandas/core/frame.py:4315: SettingWithCopyWarning: \n",
      "A value is trying to be set on a copy of a slice from a DataFrame\n",
      "\n",
      "See the caveats in the documentation: https://pandas.pydata.org/pandas-docs/stable/user_guide/indexing.html#returning-a-view-versus-a-copy\n",
      "  errors=errors,\n"
     ]
    }
   ],
   "source": [
    "df_test.drop(['SalePrice'], axis=1, inplace= True)"
   ]
  },
  {
   "cell_type": "code",
   "execution_count": 23,
   "id": "4152f9a9",
   "metadata": {
    "execution": {
     "iopub.execute_input": "2021-08-03T15:49:50.110226Z",
     "iopub.status.busy": "2021-08-03T15:49:50.109369Z",
     "iopub.status.idle": "2021-08-03T15:49:50.112980Z",
     "shell.execute_reply": "2021-08-03T15:49:50.113565Z",
     "shell.execute_reply.started": "2021-08-03T15:34:58.891486Z"
    },
    "papermill": {
     "duration": 0.037658,
     "end_time": "2021-08-03T15:49:50.113748",
     "exception": false,
     "start_time": "2021-08-03T15:49:50.076090",
     "status": "completed"
    },
    "tags": []
   },
   "outputs": [],
   "source": [
    "x_train = df_train.drop(['SalePrice'], axis=1)\n",
    "y_train = df_train['SalePrice']"
   ]
  },
  {
   "cell_type": "code",
   "execution_count": 24,
   "id": "ec95f3a7",
   "metadata": {
    "execution": {
     "iopub.execute_input": "2021-08-03T15:49:50.174575Z",
     "iopub.status.busy": "2021-08-03T15:49:50.173765Z",
     "iopub.status.idle": "2021-08-03T15:49:51.072765Z",
     "shell.execute_reply": "2021-08-03T15:49:51.071784Z",
     "shell.execute_reply.started": "2021-08-03T15:37:21.577951Z"
    },
    "papermill": {
     "duration": 0.930126,
     "end_time": "2021-08-03T15:49:51.072927",
     "exception": false,
     "start_time": "2021-08-03T15:49:50.142801",
     "status": "completed"
    },
    "tags": []
   },
   "outputs": [
    {
     "data": {
      "text/plain": [
       "XGBRFRegressor(base_score=0.5, booster='gbtree', colsample_bylevel=1,\n",
       "               colsample_bytree=1, gamma=0, gpu_id=-1, importance_type='gain',\n",
       "               interaction_constraints='', max_delta_step=0, max_depth=6,\n",
       "               min_child_weight=1, missing=nan, monotone_constraints='()',\n",
       "               n_estimators=100, n_jobs=4, num_parallel_tree=100,\n",
       "               objective='reg:squarederror', random_state=0, reg_alpha=0,\n",
       "               scale_pos_weight=1, tree_method='exact', validate_parameters=1,\n",
       "               verbosity=None)"
      ]
     },
     "execution_count": 24,
     "metadata": {},
     "output_type": "execute_result"
    }
   ],
   "source": [
    "import xgboost \n",
    "classifier = xgboost.XGBRFRegressor()\n",
    "classifier.fit(x_train,y_train)"
   ]
  },
  {
   "cell_type": "code",
   "execution_count": 25,
   "id": "9b9251d0",
   "metadata": {
    "execution": {
     "iopub.execute_input": "2021-08-03T15:49:51.133983Z",
     "iopub.status.busy": "2021-08-03T15:49:51.133308Z",
     "iopub.status.idle": "2021-08-03T15:49:51.142775Z",
     "shell.execute_reply": "2021-08-03T15:49:51.143345Z",
     "shell.execute_reply.started": "2021-08-03T15:39:48.205845Z"
    },
    "papermill": {
     "duration": 0.042887,
     "end_time": "2021-08-03T15:49:51.143584",
     "exception": false,
     "start_time": "2021-08-03T15:49:51.100697",
     "status": "completed"
    },
    "tags": []
   },
   "outputs": [],
   "source": [
    "y_pred = classifier.predict(df_test)"
   ]
  },
  {
   "cell_type": "code",
   "execution_count": 26,
   "id": "3c5b98ba",
   "metadata": {
    "execution": {
     "iopub.execute_input": "2021-08-03T15:49:51.208690Z",
     "iopub.status.busy": "2021-08-03T15:49:51.207688Z",
     "iopub.status.idle": "2021-08-03T15:49:51.219464Z",
     "shell.execute_reply": "2021-08-03T15:49:51.218809Z",
     "shell.execute_reply.started": "2021-08-03T15:49:15.046918Z"
    },
    "papermill": {
     "duration": 0.046601,
     "end_time": "2021-08-03T15:49:51.219650",
     "exception": false,
     "start_time": "2021-08-03T15:49:51.173049",
     "status": "completed"
    },
    "tags": []
   },
   "outputs": [],
   "source": [
    "pred = pd.DataFrame(y_pred)\n",
    "\n",
    "result = pd.concat([samsub['Id'],pred],axis=1)\n",
    "\n",
    "result.columns = ['ID', 'SalePrice']\n",
    "\n",
    "result.to_csv('pred_sub.csv', index= False)"
   ]
  },
  {
   "cell_type": "code",
   "execution_count": null,
   "id": "af08455f",
   "metadata": {
    "papermill": {
     "duration": 0.026852,
     "end_time": "2021-08-03T15:49:51.274233",
     "exception": false,
     "start_time": "2021-08-03T15:49:51.247381",
     "status": "completed"
    },
    "tags": []
   },
   "outputs": [],
   "source": []
  }
 ],
 "metadata": {
  "kernelspec": {
   "display_name": "Python 3",
   "language": "python",
   "name": "python3"
  },
  "language_info": {
   "codemirror_mode": {
    "name": "ipython",
    "version": 3
   },
   "file_extension": ".py",
   "mimetype": "text/x-python",
   "name": "python",
   "nbconvert_exporter": "python",
   "pygments_lexer": "ipython3",
   "version": "3.7.10"
  },
  "papermill": {
   "default_parameters": {},
   "duration": 13.607433,
   "end_time": "2021-08-03T15:49:52.112707",
   "environment_variables": {},
   "exception": null,
   "input_path": "__notebook__.ipynb",
   "output_path": "__notebook__.ipynb",
   "parameters": {},
   "start_time": "2021-08-03T15:49:38.505274",
   "version": "2.3.3"
  }
 },
 "nbformat": 4,
 "nbformat_minor": 5
}
